{
 "cells": [
  {
   "cell_type": "code",
   "execution_count": 70,
   "metadata": {
    "ExecuteTime": {
     "end_time": "2019-01-17T12:43:37.165000+01:00",
     "start_time": "2019-01-17T12:43:37.160000"
    }
   },
   "outputs": [
    {
     "data": {
      "text/plain": [
       "LinearSVC(C=1.0, class_weight=None, dual=True, fit_intercept=True,\n",
       "     intercept_scaling=1, loss='squared_hinge', max_iter=1000,\n",
       "     multi_class='ovr', penalty='l2', random_state=None, tol=0.0001,\n",
       "     verbose=0)"
      ]
     },
     "execution_count": 70,
     "metadata": {},
     "output_type": "execute_result"
    }
   ],
   "source": [
    "from sklearn.linear_model import SGDClassifier\n",
    "from sklearn.svm import LinearSVC\n",
    "X = [[0, 0], [1, 1], [1, 0], [0, 1]]\n",
    "y = [0, 0, 1, 1]\n",
    "ts = TensorSketch(degree=2, n_components=100)\n",
    "X_features = ts.fit_transform(X)\n",
    "clf = LinearSVC()\n",
    "clf.fit(X_features, y)\n",
    "\n"
   ]
  },
  {
   "cell_type": "code",
   "execution_count": 69,
   "metadata": {
    "ExecuteTime": {
     "end_time": "2019-01-17T12:43:31.145000+01:00",
     "start_time": "2019-01-17T12:43:31.143000"
    }
   },
   "outputs": [
    {
     "data": {
      "text/plain": [
       "1.0"
      ]
     },
     "execution_count": 69,
     "metadata": {},
     "output_type": "execute_result"
    }
   ],
   "source": [
    "\n",
    "clf.score(X_features, y)"
   ]
  },
  {
   "cell_type": "code",
   "execution_count": 53,
   "metadata": {
    "ExecuteTime": {
     "end_time": "2019-01-17T12:40:14.528000+01:00",
     "start_time": "2019-01-17T12:40:14.493000"
    }
   },
   "outputs": [],
   "source": [
    "import warnings\n",
    "\n",
    "import numpy as np\n",
    "import scipy.sparse as sp\n",
    "from scipy.linalg import svd\n",
    "from scipy import fftpack\n",
    "\n",
    "from sklearn.base import  BaseEstimator, TransformerMixin\n",
    "from sklearn.utils import check_array, check_random_state, as_float_array\n",
    "from sklearn.utils.validation import  check_is_fitted\n",
    "        \n",
    "class TensorSketch( BaseEstimator, TransformerMixin):\n",
    "    \"\"\"Tensor Sketch [1] approximates the feature map of the homogeneous polynomial kernel by efficiently computing\n",
    "    a Count Sketch [2] of the outer product of a vector with itself.\n",
    "\n",
    "    Parameters\n",
    "    ----------\n",
    "    degree : int\n",
    "        Degree of the homogeneous polynomial kernel whose feature map will be approximated.\n",
    "        The kernel is K(x,y) = <x,y>^d.\n",
    "\n",
    "    n_components : int\n",
    "        Dimensionality of the output feature space.\n",
    "\n",
    "    random_state : int, RandomState instance or None, optional (default=None)\n",
    "        If int, random_state is the seed used by the random number generator;\n",
    "        If RandomState instance, random_state is the random number generator;\n",
    "        If None, the random number generator is the RandomState instance used\n",
    "        by `np.random`.\n",
    "\n",
    "    Examples\n",
    "    --------\n",
    "    >>> from sklearn.kernel_approximation import TensorSketch\n",
    "    >>> from sklearn.linear_model import SGDClassifier\n",
    "    >>> X = [[0, 0], [1, 1], [1, 0], [0, 1]]\n",
    "    >>> y = [0, 0, 1, 1]\n",
    "    >>> ts = TensorSketch(degree=2, random_state=1)\n",
    "    >>> X_features = ts.fit_transform(X)\n",
    "    >>> clf = SGDClassifier(max_iter=5, tol=1e-3)\n",
    "    >>> clf.fit(X_features, y)\n",
    "    ... # doctest: +NORMALIZE_WHITESPACE\n",
    "    SGDClassifier(alpha=0.0001, average=False, class_weight=None,\n",
    "           early_stopping=False, epsilon=0.1, eta0=0.0, fit_intercept=True,\n",
    "           l1_ratio=0.15, learning_rate='optimal', loss='hinge', max_iter=5,\n",
    "           n_iter=None, n_iter_no_change=5, n_jobs=None, penalty='l2',\n",
    "           power_t=0.5, random_state=None, shuffle=True, tol=0.001,\n",
    "           validation_fraction=0.1, verbose=0, warm_start=False)\n",
    "    >>> clf.score(X_features, y)\n",
    "    1.0\n",
    "\n",
    "    Notes\n",
    "    -----\n",
    "\n",
    "    [1]Pham, N., & Pagh, R. (2013, August). Fast and scalable polynomial kernels via explicit feature maps. \n",
    "    In Proceedings of the 19th ACM SIGKDD international conference on Knowledge discovery and data mining (pp. 239-247). ACM.\n",
    "    (https://pdfs.semanticscholar.org/76ca/15e975b0dee581d5d04dca26dfae636372de.pdf)\n",
    "    \n",
    "    [2] Charikar, M., Chen, K., & Farach-Colton, M. (2002, July). Finding frequent items in data streams. \n",
    "    In International Colloquium on Automata, Languages, and Programming (pp. 693-703). Springer, Berlin, Heidelberg.\n",
    "    (http://www.vldb.org/pvldb/1/1454225.pdf)\n",
    "    \n",
    "    \"\"\"\n",
    "\n",
    "    def __init__(self, degree=2, n_components=100, random_state=None):\n",
    "        \n",
    "        self.degree = degree\n",
    "        self.n_components = n_components\n",
    "        self.random_state = random_state\n",
    "    \n",
    "    def fit(self, X, Y=None):\n",
    "        \"\"\"Fit the model with X.\n",
    "\n",
    "        Initializes the internal variables. The method is data-independent, so we only care about\n",
    "        the dimension of samples in X, not their distribution.\n",
    "\n",
    "        Parameters\n",
    "        ----------\n",
    "        X : {array-like, sparse matrix}, shape (n_samples, n_features)\n",
    "            Training data, where n_samples in the number of samples\n",
    "            and n_features is the number of features.\n",
    "\n",
    "        Returns\n",
    "        -------\n",
    "        self : object\n",
    "            Returns the transformer.\n",
    "        \"\"\"\n",
    "        \n",
    "        X = check_array(X, accept_sparse='csr')\n",
    "        random_state = check_random_state(self.random_state)\n",
    "        n_features = X.shape[1]\n",
    "        \n",
    "        self.indexHash_ = random_state.randint(0, high=self.n_components,size=(self.degree, n_features))\n",
    "        self.bitHash_ = random_state.choice(a=[-1.,1.], size=(self.degree, n_features)).astype(np.float32)\n",
    "        \n",
    "        return self\n",
    "    \n",
    "\n",
    "    \n",
    "\n",
    "    def transform(self, X, Y=None):\n",
    "        \"\"\"Generate the feature map approximation for X.\n",
    "\n",
    "        Parameters\n",
    "        ----------\n",
    "        X : {array-like, sparse matrix}, shape (n_samples, n_features)\n",
    "            New data, where n_samples in the number of samples\n",
    "            and n_features is the number of features.\n",
    "\n",
    "        Returns\n",
    "        -------\n",
    "        X_new : array-like, shape (n_samples, n_components)\n",
    "        \"\"\"\n",
    "\n",
    "        check_is_fitted(self, 'indexHash_')\n",
    "        X = check_array(X, accept_sparse='csr')\n",
    "\n",
    "        Ps = np.zeros((X.shape[0], self.degree, self.n_components))\n",
    "        for i in range(X.shape[0]):\n",
    "            for j in range(X.shape[1]):\n",
    "                for d in range(self.degree):\n",
    "                    iHashIndex = self.indexHash_[d, j]\n",
    "                    iHashBit   = self.bitHash_[d, j]\n",
    "                    Ps[i, d, iHashIndex] += iHashBit * X[i,j] \n",
    "\n",
    "        Ps = fftpack.fft(Ps, axis=2, overwrite_x=True)\n",
    "        temps = np.prod(Ps, axis=1)\n",
    "        data_sketch = np.real(fftpack.ifft(temps, overwrite_x=True))\n",
    "\n",
    "        return data_sketch"
   ]
  },
  {
   "cell_type": "code",
   "execution_count": null,
   "metadata": {
    "collapsed": true
   },
   "outputs": [],
   "source": []
  }
 ],
 "metadata": {
  "kernelspec": {
   "display_name": "Python 2",
   "language": "python",
   "name": "python2"
  },
  "language_info": {
   "codemirror_mode": {
    "name": "ipython",
    "version": 2
   },
   "file_extension": ".py",
   "mimetype": "text/x-python",
   "name": "python",
   "nbconvert_exporter": "python",
   "pygments_lexer": "ipython2",
   "version": "2.7.11"
  }
 },
 "nbformat": 4,
 "nbformat_minor": 2
}
