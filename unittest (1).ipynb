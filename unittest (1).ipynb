{
  "nbformat": 4,
  "nbformat_minor": 0,
  "metadata": {
    "colab": {
      "provenance": []
    },
    "kernelspec": {
      "name": "python3",
      "display_name": "Python 3"
    },
    "language_info": {
      "name": "python"
    }
  },
  "cells": [
    {
      "cell_type": "code",
      "source": [
        "import unittest\n",
        "import tensorflow as tf\n",
        "from tensorflow.keras.utils import to_categorical\n",
        "from tensorflow.keras.applications import ResNet50\n",
        "from tensorflow.keras.layers import Dense, GlobalAveragePooling2D, Dropout\n",
        "from tensorflow.keras.models import Model\n",
        "from tensorflow.keras.datasets import fashion_mnist\n",
        "\n",
        "\n",
        "class TestFashionMNISTModel(unittest.TestCase):\n",
        "\n",
        "    @classmethod\n",
        "    def setUpClass(cls):\n",
        "        \"\"\"Load data and set up necessary components once for all tests\"\"\"\n",
        "        (cls.X_train, cls.y_train), (cls.X_test, cls.y_test) = fashion_mnist.load_data()\n",
        "        cls.img_width, cls.img_height = 224, 224\n",
        "        cls.num_classes = 10\n",
        "\n",
        "    def test_one_hot_encoding(self):\n",
        "        \"\"\"Test if labels are correctly one-hot encoded\"\"\"\n",
        "        y_train_encoded = to_categorical(self.y_train, self.num_classes)\n",
        "        y_test_encoded = to_categorical(self.y_test, self.num_classes)\n",
        "\n",
        "        # Check if the output is in the correct shape\n",
        "        self.assertEqual(y_train_encoded.shape[1], self.num_classes)\n",
        "        self.assertEqual(y_test_encoded.shape[1], self.num_classes)\n",
        "\n",
        "    def test_data_preprocessing(self):\n",
        "        \"\"\"Test if the data preprocessing correctly resizes and converts images to RGB\"\"\"\n",
        "        def preprocess(image, label):\n",
        "            image = tf.image.grayscale_to_rgb(image)\n",
        "            image = tf.image.resize(image, (self.img_width, self.img_height))\n",
        "            return image, label\n",
        "\n",
        "        X_train_reshaped = self.X_train.reshape(-1, 28, 28, 1)\n",
        "        X_test_reshaped = self.X_test.reshape(-1, 28, 28, 1)\n",
        "\n",
        "        X_train_tensor = tf.convert_to_tensor(X_train_reshaped, dtype=tf.float32)\n",
        "        X_test_tensor = tf.convert_to_tensor(X_test_reshaped, dtype=tf.float32)\n",
        "\n",
        "        # Preprocess a sample\n",
        "        preprocessed_image, _ = preprocess(X_train_tensor[0], self.y_train[0])\n",
        "\n",
        "        # Check if the image has been resized to 224x224\n",
        "        self.assertEqual(preprocessed_image.shape, (self.img_width, self.img_height, 3))\n",
        "\n",
        "    def test_model_architecture(self):\n",
        "        \"\"\"Test if the model architecture is built correctly\"\"\"\n",
        "        base_model = ResNet50(weights='imagenet', include_top=False, input_shape=(self.img_width, self.img_height, 3))\n",
        "        base_model.trainable = False\n",
        "\n",
        "        # Add custom layers\n",
        "        x = base_model.output\n",
        "        x = GlobalAveragePooling2D()(x)\n",
        "        x = Dense(512, activation='relu')(x)\n",
        "        x = Dropout(0.5)(x)\n",
        "        outputs = Dense(self.num_classes, activation='softmax')(x)\n",
        "\n",
        "        model = Model(inputs=base_model.input, outputs=outputs)\n",
        "\n",
        "        # Check if the output shape is correct\n",
        "        self.assertEqual(model.output_shape, (None, self.num_classes))\n",
        "\n",
        "\n",
        "if __name__ == \"__main__\":\n",
        "    unittest.main(argv=[''], exit=False)  # Use argv=[''] to avoid IPython and Jupyter argv issues\n"
      ],
      "metadata": {
        "colab": {
          "base_uri": "https://localhost:8080/"
        },
        "id": "1QyfFpIE-Hrx",
        "outputId": "e3d3f780-6a20-43ca-a4ba-e539b121f26c"
      },
      "execution_count": 2,
      "outputs": [
        {
          "output_type": "stream",
          "name": "stdout",
          "text": [
            "Downloading data from https://storage.googleapis.com/tensorflow/tf-keras-datasets/train-labels-idx1-ubyte.gz\n",
            "\u001b[1m29515/29515\u001b[0m \u001b[32m━━━━━━━━━━━━━━━━━━━━\u001b[0m\u001b[37m\u001b[0m \u001b[1m0s\u001b[0m 0us/step\n",
            "Downloading data from https://storage.googleapis.com/tensorflow/tf-keras-datasets/train-images-idx3-ubyte.gz\n",
            "\u001b[1m26421880/26421880\u001b[0m \u001b[32m━━━━━━━━━━━━━━━━━━━━\u001b[0m\u001b[37m\u001b[0m \u001b[1m0s\u001b[0m 0us/step\n",
            "Downloading data from https://storage.googleapis.com/tensorflow/tf-keras-datasets/t10k-labels-idx1-ubyte.gz\n",
            "\u001b[1m5148/5148\u001b[0m \u001b[32m━━━━━━━━━━━━━━━━━━━━\u001b[0m\u001b[37m\u001b[0m \u001b[1m0s\u001b[0m 1us/step\n",
            "Downloading data from https://storage.googleapis.com/tensorflow/tf-keras-datasets/t10k-images-idx3-ubyte.gz\n",
            "\u001b[1m4422102/4422102\u001b[0m \u001b[32m━━━━━━━━━━━━━━━━━━━━\u001b[0m\u001b[37m\u001b[0m \u001b[1m0s\u001b[0m 0us/step\n"
          ]
        },
        {
          "output_type": "stream",
          "name": "stderr",
          "text": [
            "."
          ]
        },
        {
          "output_type": "stream",
          "name": "stdout",
          "text": [
            "Downloading data from https://storage.googleapis.com/tensorflow/keras-applications/resnet/resnet50_weights_tf_dim_ordering_tf_kernels_notop.h5\n",
            "\u001b[1m94765736/94765736\u001b[0m \u001b[32m━━━━━━━━━━━━━━━━━━━━\u001b[0m\u001b[37m\u001b[0m \u001b[1m0s\u001b[0m 0us/step\n"
          ]
        },
        {
          "output_type": "stream",
          "name": "stderr",
          "text": [
            "..\n",
            "----------------------------------------------------------------------\n",
            "Ran 3 tests in 4.721s\n",
            "\n",
            "OK\n"
          ]
        }
      ]
    },
    {
      "cell_type": "code",
      "source": [],
      "metadata": {
        "id": "OFH3-Pfl-jcj"
      },
      "execution_count": null,
      "outputs": []
    }
  ]
}