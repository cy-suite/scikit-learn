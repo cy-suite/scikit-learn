{
 "cells": [
  {
   "cell_type": "markdown",
   "metadata": {},
   "source": [
    "# Comparing axis-aligned decision tree versus oblique decision tree on simulation datasets\n",
    "The previous notebook conducted visual analysis using `Iris` dataset. Here we extend our analysis using `2` more custom simulation datasets: `sparse_parity`, `trunk` along with other simulation datasets from scikit-learn datasets module"
   ]
  },
  {
   "cell_type": "markdown",
   "metadata": {},
   "source": [
    "## Environment\n",
    "- Python 3.8.10\n",
    "- [Sklearn-Adam's dev branch](https://github.com/neurodata/scikit-learn/tree/obliquetrees)"
   ]
  },
  {
   "cell_type": "markdown",
   "metadata": {},
   "source": [
    "## Import packages"
   ]
  },
  {
   "cell_type": "code",
   "execution_count": 1,
   "metadata": {},
   "outputs": [
    {
     "data": {
      "text/plain": [
       "'1.1.dev0'"
      ]
     },
     "execution_count": 1,
     "metadata": {},
     "output_type": "execute_result"
    }
   ],
   "source": [
    "import sklearn\n",
    "from sklearn.tree import DecisionTreeClassifier, ObliqueDecisionTreeClassifier, plot_tree\n",
    "from sklearn.ensemble import RandomForestClassifier, ObliqueRandomForestClassifier\n",
    "from sklearn.model_selection import cross_val_score, train_test_split\n",
    "from sklearn.metrics import accuracy_score\n",
    "from sklearn.datasets import make_low_rank_matrix, make_multilabel_classification, \\\n",
    "                            make_circles, make_moons, make_hastie_10_2, make_blobs, \\\n",
    "                            make_sparse_uncorrelated, make_gaussian_quantiles\n",
    "\n",
    "from datetime import datetime\n",
    "from tqdm import tqdm\n",
    "import itertools\n",
    "import os\n",
    "\n",
    "import numpy as np\n",
    "import pandas as pd\n",
    "import seaborn as sns\n",
    "import matplotlib.pyplot as plt\n",
    "\n",
    "sklearn.__version__"
   ]
  },
  {
   "cell_type": "code",
   "execution_count": 2,
   "metadata": {},
   "outputs": [
    {
     "data": {
      "text/plain": [
       "'2022-05-20'"
      ]
     },
     "execution_count": 2,
     "metadata": {},
     "output_type": "execute_result"
    }
   ],
   "source": [
    "today = str(datetime.now().date())\n",
    "today"
   ]
  },
  {
   "cell_type": "markdown",
   "metadata": {},
   "source": [
    "#### Generating custom simulation datasets"
   ]
  },
  {
   "cell_type": "code",
   "execution_count": 3,
   "metadata": {},
   "outputs": [],
   "source": [
    "def sparse_parity(n_samples, p=20, p_star=3, noise=None, random_seed=None, **kwarg):\n",
    " \n",
    "    if random_seed: \n",
    "        np.random.seed(random_seed)\n",
    "\n",
    "    X = np.random.uniform(-1, 1, (n_samples, p))\n",
    "    y = np.zeros(n_samples)\n",
    "\n",
    "    for i in range(0, n_samples):\n",
    "        y[i] = sum(X[i, :p_star] > 0) % 2;\n",
    "\n",
    "    return X, y\n",
    "\n",
    "def trunk(n_samples, p=10, noise=None, random_seed=None, **kwarg):\n",
    "\n",
    "    if random_seed: \n",
    "        np.random.seed(random_seed)\n",
    "\n",
    "    mu_1 = np.array([1/i for i in range(1,p+1)])\n",
    "    mu_0 = -1 * mu_1\n",
    "\n",
    "    cov = np.identity(p)\n",
    "\n",
    "    X = np.vstack((\n",
    "        np.random.multivariate_normal(mu_0, cov, int(n_samples/2)),\n",
    "        np.random.multivariate_normal(mu_1, cov, int(n_samples/2))\n",
    "        ))\n",
    "\n",
    "    y = np.concatenate((\n",
    "        np.zeros(int(n_samples/2)),\n",
    "        np.ones(int(n_samples/2))\n",
    "        ))\n",
    "\n",
    "    return X, y"
   ]
  },
  {
   "cell_type": "code",
   "execution_count": 4,
   "metadata": {},
   "outputs": [],
   "source": [
    "def scores(func, n, m=None, o=None):\n",
    "    if m:\n",
    "        k = {'noise': m}\n",
    "    else:\n",
    "        k = {}\n",
    "\n",
    "    if o: k['n_features'] = o\n",
    "    if n: k['n_samples'] = n\n",
    "\n",
    "    X_train, y_train = func(**k)\n",
    "    X_test, y_test = func(**k)\n",
    "\n",
    "    clfs = [\n",
    "        RandomForestClassifier(**kwarg),\n",
    "        ObliqueRandomForestClassifier(**kwarg)\n",
    "    ]\n",
    "\n",
    "    tmp = []\n",
    "\n",
    "    for clf in clfs:\n",
    "        clf.fit(X_train,y_train)\n",
    "        \n",
    "        tmp.append(\n",
    "            accuracy_score(y_true=y_test, y_pred=clf.predict(X_test))\n",
    "        )\n",
    "\n",
    "    return tmp"
   ]
  },
  {
   "cell_type": "code",
   "execution_count": 5,
   "metadata": {},
   "outputs": [],
   "source": [
    "def run_experiment():\n",
    "    nn = [100, 1000, 5000, 10000]\n",
    "    accs = []\n",
    "\n",
    "    for n in tqdm(nn):\n",
    "        args = [\n",
    "            ['sparse_parity', sparse_parity, n],\n",
    "            ['trunk', trunk, n],\n",
    "            # ['make_blobs', make_blobs, n, None, 10],\n",
    "            ['make_gaussian_quantiles', make_gaussian_quantiles, n, None, 10], #noise, n_features\n",
    "            ['make_circles', make_circles, n, 0.3], #noise\n",
    "            ['make_moons',make_moons, n, 0.4],\n",
    "            ['make_hastie_10_2',make_hastie_10_2, n]\n",
    "        ]\n",
    "        for arg in args:\n",
    "            for i in range(10):\n",
    "                acc = scores(*arg[1:])\n",
    "                accs.append([arg[0], n, i] + acc)\n",
    "\n",
    "    fig, ax = plt.subplots(1,1, figsize=(6,6))\n",
    "    df = pd.DataFrame(accs, columns=['d', 'n', 'i', 'RF', 'OF'])\n",
    "    df['delta'] = df.apply(lambda x: x.OF-x.RF, axis=1)\n",
    "\n",
    "    sns.barplot(data=df, x='n', y='delta', hue='d', ax=ax)"
   ]
  },
  {
   "cell_type": "code",
   "execution_count": 6,
   "metadata": {},
   "outputs": [
    {
     "name": "stderr",
     "output_type": "stream",
     "text": [
      "100%|██████████| 4/4 [04:56<00:00, 74.01s/it]\n"
     ]
    },
    {
     "data": {
      "image/png": "[encoded data removed]",
      "text/plain": [
       "<Figure size 432x432 with 1 Axes>"
      ]
     },
     "metadata": {
      "needs_background": "light"
     },
     "output_type": "display_data"
    }
   ],
   "source": [
    "kwarg = {\n",
    "'max_features': 2,\n",
    "'max_depth': 10}\n",
    "\n",
    "run_experiment()"
   ]
  },
  {
   "cell_type": "code",
   "execution_count": 7,
   "metadata": {},
   "outputs": [
    {
     "name": "stderr",
     "output_type": "stream",
     "text": [
      "100%|██████████| 4/4 [01:17<00:00, 19.43s/it]\n"
     ]
    },
    {
     "data": {
      "image/png": "[encoded data removed]",
      "text/plain": [
       "<Figure size 432x432 with 1 Axes>"
      ]
     },
     "metadata": {
      "needs_background": "light"
     },
     "output_type": "display_data"
    }
   ],
   "source": [
    "kwarg = {\n",
    "'max_features': 2,\n",
    "'max_depth': 1}\n",
    "\n",
    "run_experiment()"
   ]
  },
  {
   "cell_type": "code",
   "execution_count": null,
   "metadata": {},
   "outputs": [],
   "source": []
  }
 ],
 "metadata": {
  "interpreter": {
   "hash": "2bd05440f2f19378251b791590979117d335abd7aa9af7ac035ffb03047de808"
  },
  "kernelspec": {
   "display_name": "Python 3.8.10 ('venv': venv)",
   "language": "python",
   "name": "python3"
  },
  "language_info": {
   "codemirror_mode": {
    "name": "ipython",
    "version": 3
   },
   "file_extension": ".py",
   "mimetype": "text/x-python",
   "name": "python",
   "nbconvert_exporter": "python",
   "pygments_lexer": "ipython3",
   "version": "3.8.10"
  },
  "orig_nbformat": 4
 },
 "nbformat": 4,
 "nbformat_minor": 2
}
