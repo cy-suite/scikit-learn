{
 "metadata": {
  "name": "04_iris_clustering"
 },
 "nbformat": 3,
 "nbformat_minor": 0,
 "worksheets": [
  {
   "cells": [
    {
     "cell_type": "heading",
     "level": 1,
     "metadata": {},
     "source": [
      "Clustering of Iris Data"
     ]
    },
    {
     "cell_type": "markdown",
     "metadata": {},
     "source": [
      "Clustering is the task of gathering samples into groups of similar\n",
      "samples according to some predefined similarity or dissimilarity\n",
      "measure (such as the Euclidean distance).\n",
      "\n",
      "Let's re-use the results of the 2D PCA of the iris dataset in order to\n",
      "explore clustering.  First we need to repeat some of the code from the\n",
      "previous notebook"
     ]
    },
    {
     "cell_type": "code",
     "collapsed": false,
     "input": [
      "# make sure ipython inline mode is activated\n",
      "%pylab inline"
     ],
     "language": "python",
     "metadata": {},
     "outputs": []
    },
    {
     "cell_type": "code",
     "collapsed": false,
     "input": [
      "# all of this is taken from the notebook '03_iris_dimensionality.ipynb' \n",
      "from sklearn.datasets import load_iris\n",
      "from sklearn.decomposition import PCA\n",
      "import pylab as pl\n",
      "from itertools import cycle\n",
      "\n",
      "iris = load_iris()\n",
      "X = iris.data\n",
      "y = iris.target\n",
      "\n",
      "pca = PCA(n_components=2, whiten=True).fit(X)\n",
      "X_pca = pca.transform(X)\n",
      "\n",
      "def plot_2D(data, target, target_names):\n",
      "    colors = cycle('rgbcmykw')\n",
      "    target_ids = range(len(target_names))\n",
      "    pl.figure()\n",
      "    for i, c, label in zip(target_ids, colors, target_names):\n",
      "        pl.scatter(data[target == i, 0], data[target == i, 1],\n",
      "                   c=c, label=label)\n",
      "    pl.legend()"
     ],
     "language": "python",
     "metadata": {},
     "outputs": []
    },
    {
     "cell_type": "markdown",
     "metadata": {},
     "source": [
      "Now we will use one of the simplest clustering algorithms, K-means.\n",
      "This is an iterative algorithm which searches for three cluster\n",
      "centers such that the distance from each point to its cluster is\n",
      "minimizied."
     ]
    },
    {
     "cell_type": "code",
     "collapsed": false,
     "input": [
      "from sklearn.cluster import KMeans\n",
      "from numpy.random import RandomState\n",
      "rng = RandomState(42)\n",
      "\n",
      "kmeans = KMeans(n_clusters=3, random_state=rng).fit(X_pca)"
     ],
     "language": "python",
     "metadata": {},
     "outputs": []
    },
    {
     "cell_type": "code",
     "collapsed": false,
     "input": [
      "import numpy as np\n",
      "np.round(kmeans.cluster_centers_, decimals=2)"
     ],
     "language": "python",
     "metadata": {},
     "outputs": []
    },
    {
     "cell_type": "code",
     "collapsed": false,
     "input": [
      "kmeans.labels_[:10]"
     ],
     "language": "python",
     "metadata": {},
     "outputs": []
    },
    {
     "cell_type": "code",
     "collapsed": false,
     "input": [
      "kmeans.labels_[-10:]"
     ],
     "language": "python",
     "metadata": {},
     "outputs": []
    },
    {
     "cell_type": "markdown",
     "metadata": {},
     "source": [
      "The K-means algorithm has been used to infer cluster labels for the\n",
      "points.  Let's call the ``plot_2D`` function again, but color the points\n",
      "based on the cluster labels rather than the iris species."
     ]
    },
    {
     "cell_type": "code",
     "collapsed": false,
     "input": [
      "plot_2D(X_pca, kmeans.labels_, [\"c0\", \"c1\", \"c2\"])\n",
      "\n",
      "plot_2D(X_pca, iris.target, iris.target_names)"
     ],
     "language": "python",
     "metadata": {},
     "outputs": []
    },
    {
     "cell_type": "heading",
     "level": 3,
     "metadata": {},
     "source": [
      "Exercise"
     ]
    },
    {
     "cell_type": "markdown",
     "metadata": {},
     "source": [
      "Perform the K-Means cluster search again, but this time learn the\n",
      "clusters using the full data matrix ``X``, rather than the projected\n",
      "matrix ``X_pca``.  Does this change the results?  Do these labels\n",
      "look closer to the true labels?"
     ]
    },
    {
     "cell_type": "code",
     "collapsed": false,
     "input": [],
     "language": "python",
     "metadata": {},
     "outputs": []
    }
   ],
   "metadata": {}
  }
 ]
}