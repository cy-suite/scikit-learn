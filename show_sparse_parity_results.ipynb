{
 "cells": [
  {
   "cell_type": "code",
   "execution_count": 2,
   "id": "043a2391-ce2d-432c-98d9-2ca57581a84d",
   "metadata": {},
   "outputs": [],
   "source": [
    "import numpy as np\n",
    "import pandas as pd\n",
    "\n",
    "import seaborn as sns\n",
    "import matplotlib.pyplot as plt"
   ]
  },
  {
   "cell_type": "code",
   "execution_count": 4,
   "id": "d76a4b27-b569-4efc-9276-39bb570b197d",
   "metadata": {},
   "outputs": [
    {
     "data": {
      "text/html": [
       "<div>\n",
       "<style scoped>\n",
       "    .dataframe tbody tr th:only-of-type {\n",
       "        vertical-align: middle;\n",
       "    }\n",
       "\n",
       "    .dataframe tbody tr th {\n",
       "        vertical-align: top;\n",
       "    }\n",
       "\n",
       "    .dataframe thead th {\n",
       "        text-align: right;\n",
       "    }\n",
       "</style>\n",
       "<table border=\"1\" class=\"dataframe\">\n",
       "  <thead>\n",
       "    <tr style=\"text-align: right;\">\n",
       "      <th></th>\n",
       "      <th>mean_fit_time</th>\n",
       "      <th>std_fit_time</th>\n",
       "      <th>mean_score_time</th>\n",
       "      <th>std_score_time</th>\n",
       "      <th>max_depth</th>\n",
       "      <th>max_features</th>\n",
       "      <th>n_estimators</th>\n",
       "      <th>params</th>\n",
       "      <th>split0_test_score</th>\n",
       "      <th>split1_test_score</th>\n",
       "      <th>...</th>\n",
       "      <th>split1_train_score</th>\n",
       "      <th>split2_train_score</th>\n",
       "      <th>split3_train_score</th>\n",
       "      <th>split4_train_score</th>\n",
       "      <th>mean_train_score</th>\n",
       "      <th>std_train_score</th>\n",
       "      <th>clf</th>\n",
       "      <th>clf_size</th>\n",
       "      <th>max_leaves</th>\n",
       "      <th>clf_size_MB</th>\n",
       "    </tr>\n",
       "  </thead>\n",
       "  <tbody>\n",
       "    <tr>\n",
       "      <th>0</th>\n",
       "      <td>0.860293</td>\n",
       "      <td>0.006302</td>\n",
       "      <td>0.031157</td>\n",
       "      <td>0.000544</td>\n",
       "      <td>5.0</td>\n",
       "      <td>sqrt</td>\n",
       "      <td>100</td>\n",
       "      <td>{'max_depth': 5, 'max_features': 'sqrt', 'n_es...</td>\n",
       "      <td>0.5155</td>\n",
       "      <td>0.5035</td>\n",
       "      <td>...</td>\n",
       "      <td>0.689125</td>\n",
       "      <td>0.722125</td>\n",
       "      <td>0.672875</td>\n",
       "      <td>0.687625</td>\n",
       "      <td>0.690275</td>\n",
       "      <td>0.016964</td>\n",
       "      <td>RF</td>\n",
       "      <td>363145</td>\n",
       "      <td>32</td>\n",
       "      <td>0.036314</td>\n",
       "    </tr>\n",
       "    <tr>\n",
       "      <th>1</th>\n",
       "      <td>0.862744</td>\n",
       "      <td>0.003960</td>\n",
       "      <td>0.030916</td>\n",
       "      <td>0.000174</td>\n",
       "      <td>5.0</td>\n",
       "      <td>log2</td>\n",
       "      <td>100</td>\n",
       "      <td>{'max_depth': 5, 'max_features': 'log2', 'n_es...</td>\n",
       "      <td>0.5155</td>\n",
       "      <td>0.5035</td>\n",
       "      <td>...</td>\n",
       "      <td>0.689125</td>\n",
       "      <td>0.722125</td>\n",
       "      <td>0.672875</td>\n",
       "      <td>0.687625</td>\n",
       "      <td>0.690275</td>\n",
       "      <td>0.016964</td>\n",
       "      <td>RF</td>\n",
       "      <td>363145</td>\n",
       "      <td>32</td>\n",
       "      <td>0.036314</td>\n",
       "    </tr>\n",
       "    <tr>\n",
       "      <th>2</th>\n",
       "      <td>4.119108</td>\n",
       "      <td>0.143646</td>\n",
       "      <td>0.034346</td>\n",
       "      <td>0.000737</td>\n",
       "      <td>5.0</td>\n",
       "      <td>NaN</td>\n",
       "      <td>100</td>\n",
       "      <td>{'max_depth': 5, 'max_features': None, 'n_esti...</td>\n",
       "      <td>0.5015</td>\n",
       "      <td>0.5415</td>\n",
       "      <td>...</td>\n",
       "      <td>0.726125</td>\n",
       "      <td>0.931250</td>\n",
       "      <td>0.721000</td>\n",
       "      <td>0.705625</td>\n",
       "      <td>0.756875</td>\n",
       "      <td>0.087702</td>\n",
       "      <td>RF</td>\n",
       "      <td>370383</td>\n",
       "      <td>32</td>\n",
       "      <td>0.037038</td>\n",
       "    </tr>\n",
       "    <tr>\n",
       "      <th>3</th>\n",
       "      <td>1.595450</td>\n",
       "      <td>0.035857</td>\n",
       "      <td>0.054988</td>\n",
       "      <td>0.001205</td>\n",
       "      <td>10.0</td>\n",
       "      <td>sqrt</td>\n",
       "      <td>100</td>\n",
       "      <td>{'max_depth': 10, 'max_features': 'sqrt', 'n_e...</td>\n",
       "      <td>0.5945</td>\n",
       "      <td>0.5770</td>\n",
       "      <td>...</td>\n",
       "      <td>0.945500</td>\n",
       "      <td>0.967875</td>\n",
       "      <td>0.952625</td>\n",
       "      <td>0.951625</td>\n",
       "      <td>0.953525</td>\n",
       "      <td>0.007579</td>\n",
       "      <td>RF</td>\n",
       "      <td>2531404</td>\n",
       "      <td>339</td>\n",
       "      <td>0.253140</td>\n",
       "    </tr>\n",
       "    <tr>\n",
       "      <th>4</th>\n",
       "      <td>1.549372</td>\n",
       "      <td>0.026499</td>\n",
       "      <td>0.053991</td>\n",
       "      <td>0.000996</td>\n",
       "      <td>10.0</td>\n",
       "      <td>log2</td>\n",
       "      <td>100</td>\n",
       "      <td>{'max_depth': 10, 'max_features': 'log2', 'n_e...</td>\n",
       "      <td>0.5945</td>\n",
       "      <td>0.5770</td>\n",
       "      <td>...</td>\n",
       "      <td>0.945500</td>\n",
       "      <td>0.967875</td>\n",
       "      <td>0.952625</td>\n",
       "      <td>0.951625</td>\n",
       "      <td>0.953525</td>\n",
       "      <td>0.007579</td>\n",
       "      <td>RF</td>\n",
       "      <td>2531404</td>\n",
       "      <td>339</td>\n",
       "      <td>0.253140</td>\n",
       "    </tr>\n",
       "  </tbody>\n",
       "</table>\n",
       "<p>5 rows × 27 columns</p>\n",
       "</div>"
      ],
      "text/plain": [
       "   mean_fit_time  std_fit_time  mean_score_time  std_score_time  max_depth  \\\n",
       "0       0.860293      0.006302         0.031157        0.000544        5.0   \n",
       "1       0.862744      0.003960         0.030916        0.000174        5.0   \n",
       "2       4.119108      0.143646         0.034346        0.000737        5.0   \n",
       "3       1.595450      0.035857         0.054988        0.001205       10.0   \n",
       "4       1.549372      0.026499         0.053991        0.000996       10.0   \n",
       "\n",
       "  max_features  n_estimators  \\\n",
       "0         sqrt           100   \n",
       "1         log2           100   \n",
       "2          NaN           100   \n",
       "3         sqrt           100   \n",
       "4         log2           100   \n",
       "\n",
       "                                              params  split0_test_score  \\\n",
       "0  {'max_depth': 5, 'max_features': 'sqrt', 'n_es...             0.5155   \n",
       "1  {'max_depth': 5, 'max_features': 'log2', 'n_es...             0.5155   \n",
       "2  {'max_depth': 5, 'max_features': None, 'n_esti...             0.5015   \n",
       "3  {'max_depth': 10, 'max_features': 'sqrt', 'n_e...             0.5945   \n",
       "4  {'max_depth': 10, 'max_features': 'log2', 'n_e...             0.5945   \n",
       "\n",
       "   split1_test_score  ...  split1_train_score  split2_train_score  \\\n",
       "0             0.5035  ...            0.689125            0.722125   \n",
       "1             0.5035  ...            0.689125            0.722125   \n",
       "2             0.5415  ...            0.726125            0.931250   \n",
       "3             0.5770  ...            0.945500            0.967875   \n",
       "4             0.5770  ...            0.945500            0.967875   \n",
       "\n",
       "   split3_train_score  split4_train_score  mean_train_score  std_train_score  \\\n",
       "0            0.672875            0.687625          0.690275         0.016964   \n",
       "1            0.672875            0.687625          0.690275         0.016964   \n",
       "2            0.721000            0.705625          0.756875         0.087702   \n",
       "3            0.952625            0.951625          0.953525         0.007579   \n",
       "4            0.952625            0.951625          0.953525         0.007579   \n",
       "\n",
       "   clf  clf_size  max_leaves  clf_size_MB  \n",
       "0   RF    363145          32     0.036314  \n",
       "1   RF    363145          32     0.036314  \n",
       "2   RF    370383          32     0.037038  \n",
       "3   RF   2531404         339     0.253140  \n",
       "4   RF   2531404         339     0.253140  \n",
       "\n",
       "[5 rows x 27 columns]"
      ]
     },
     "metadata": {},
     "output_type": "display_data"
    }
   ],
   "source": [
    "fname = '/Users/adam2392/Downloads/OFvsRF_grid_search_cv_results_sparse_parity.csv'\n",
    "\n",
    "df = pd.read_csv(fname, index_col=0)\n",
    "\n",
    "display(df.head())"
   ]
  },
  {
   "cell_type": "code",
   "execution_count": 6,
   "id": "27dacfc9-54c2-406a-83ba-fbe26b2f8a40",
   "metadata": {},
   "outputs": [],
   "source": [
    "rf_df = df[df['clf']=='RF']\n",
    "of_df = df[df['clf']=='OF']"
   ]
  },
  {
   "cell_type": "code",
   "execution_count": 13,
   "id": "07182e22-d890-484f-b390-eb3e114d2bb1",
   "metadata": {},
   "outputs": [
    {
     "data": {
      "text/plain": [
       "<AxesSubplot:xlabel='mean_fit_time', ylabel='mean_test_score'>"
      ]
     },
     "execution_count": 13,
     "metadata": {},
     "output_type": "execute_result"
    },
    {
     "data": {
      "image/png": "[encoded data removed]",
      "text/plain": [
       "<Figure size 432x288 with 1 Axes>"
      ]
     },
     "metadata": {
      "needs_background": "light"
     },
     "output_type": "display_data"
    }
   ],
   "source": [
    "sns.set_context(context='talk', font_scale=1.0)\n",
    "fig, ax = plt.subplots()\n",
    "sns.scatterplot(x='mean_fit_time', y='mean_test_score', label='rf', data=rf_df, ax=ax)\n",
    "\n",
    "# fig, ax = plt.subplots()\n",
    "sns.scatterplot(x='mean_fit_time', y='mean_test_score', color='red', label='of', data=of_df, ax=ax)"
   ]
  },
  {
   "cell_type": "code",
   "execution_count": 16,
   "id": "d0b071c5-fdeb-4c61-a6cc-0ba6d998e469",
   "metadata": {},
   "outputs": [
    {
     "data": {
      "text/plain": [
       "<AxesSubplot:xlabel='mean_score_time', ylabel='mean_test_score'>"
      ]
     },
     "execution_count": 16,
     "metadata": {},
     "output_type": "execute_result"
    },
    {
     "data": {
      "image/png": "[encoded data removed]",
      "text/plain": [
       "<Figure size 432x288 with 1 Axes>"
      ]
     },
     "metadata": {
      "needs_background": "light"
     },
     "output_type": "display_data"
    }
   ],
   "source": [
    "sns.set_context(context='talk', font_scale=1.0)\n",
    "fig, ax = plt.subplots()\n",
    "sns.scatterplot(x='mean_score_time', y='mean_test_score', label='rf', data=rf_df, ax=ax)\n",
    "\n",
    "# fig, ax = plt.subplots()\n",
    "sns.scatterplot(x='mean_score_time', y='mean_test_score', color='red', label='of', data=of_df, ax=ax)"
   ]
  },
  {
   "cell_type": "code",
   "execution_count": 14,
   "id": "a93c895f-2abb-4449-8f00-d061c150793f",
   "metadata": {},
   "outputs": [
    {
     "data": {
      "text/plain": [
       "<AxesSubplot:xlabel='clf_size_MB', ylabel='mean_test_score'>"
      ]
     },
     "execution_count": 14,
     "metadata": {},
     "output_type": "execute_result"
    },
    {
     "data": {
      "image/png": "[encoded data removed]",
      "text/plain": [
       "<Figure size 432x288 with 1 Axes>"
      ]
     },
     "metadata": {
      "needs_background": "light"
     },
     "output_type": "display_data"
    }
   ],
   "source": [
    "fig, ax = plt.subplots()\n",
    "sns.scatterplot(x='clf_size_MB', y='mean_test_score', label='rf', data=rf_df, ax=ax)\n",
    "\n",
    "# fig, ax = plt.subplots()\n",
    "sns.scatterplot(x='clf_size_MB', y='mean_test_score', color='red', label='of', data=of_df, ax=ax)"
   ]
  },
  {
   "cell_type": "code",
   "execution_count": 15,
   "id": "ed2c7396-4de7-4897-be3a-1f1c60a53a8c",
   "metadata": {},
   "outputs": [
    {
     "data": {
      "text/plain": [
       "<AxesSubplot:xlabel='max_leaves', ylabel='mean_test_score'>"
      ]
     },
     "execution_count": 15,
     "metadata": {},
     "output_type": "execute_result"
    },
    {
     "data": {
      "image/png": "[encoded data removed]",
      "text/plain": [
       "<Figure size 432x288 with 1 Axes>"
      ]
     },
     "metadata": {
      "needs_background": "light"
     },
     "output_type": "display_data"
    }
   ],
   "source": [
    "fig, ax = plt.subplots()\n",
    "sns.scatterplot(x='max_leaves', y='mean_test_score', label='rf', data=rf_df, ax=ax)\n",
    "\n",
    "# fig, ax = plt.subplots()\n",
    "sns.scatterplot(x='max_leaves', y='mean_test_score', color='red', label='of', data=of_df, ax=ax)"
   ]
  },
  {
   "cell_type": "markdown",
   "id": "a3a28fdf-6e28-474f-b1f6-57a969b6fef7",
   "metadata": {},
   "source": [
    "# CC18"
   ]
  },
  {
   "cell_type": "code",
   "execution_count": 3,
   "id": "6ca44d70-1870-4da9-84bb-347082be1936",
   "metadata": {},
   "outputs": [
    {
     "data": {
      "text/html": [
       "<div>\n",
       "<style scoped>\n",
       "    .dataframe tbody tr th:only-of-type {\n",
       "        vertical-align: middle;\n",
       "    }\n",
       "\n",
       "    .dataframe tbody tr th {\n",
       "        vertical-align: top;\n",
       "    }\n",
       "\n",
       "    .dataframe thead th {\n",
       "        text-align: right;\n",
       "    }\n",
       "</style>\n",
       "<table border=\"1\" class=\"dataframe\">\n",
       "  <thead>\n",
       "    <tr style=\"text-align: right;\">\n",
       "      <th></th>\n",
       "      <th>mean_fit_time</th>\n",
       "      <th>std_fit_time</th>\n",
       "      <th>mean_score_time</th>\n",
       "      <th>std_score_time</th>\n",
       "      <th>max_depth</th>\n",
       "      <th>max_features</th>\n",
       "      <th>n_estimators</th>\n",
       "      <th>params</th>\n",
       "      <th>split0_test_score</th>\n",
       "      <th>split1_test_score</th>\n",
       "      <th>...</th>\n",
       "      <th>split2_train_score</th>\n",
       "      <th>split3_train_score</th>\n",
       "      <th>split4_train_score</th>\n",
       "      <th>mean_train_score</th>\n",
       "      <th>std_train_score</th>\n",
       "      <th>clf</th>\n",
       "      <th>data_id</th>\n",
       "      <th>clf_size</th>\n",
       "      <th>max_leaves</th>\n",
       "      <th>clf_size_MB</th>\n",
       "    </tr>\n",
       "  </thead>\n",
       "  <tbody>\n",
       "    <tr>\n",
       "      <th>0</th>\n",
       "      <td>0.041044</td>\n",
       "      <td>0.001705</td>\n",
       "      <td>0.006777</td>\n",
       "      <td>0.000872</td>\n",
       "      <td>5.0</td>\n",
       "      <td>sqrt</td>\n",
       "      <td>50</td>\n",
       "      <td>{'max_depth': 5, 'max_features': 'sqrt', 'n_es...</td>\n",
       "      <td>0.918552</td>\n",
       "      <td>0.909502</td>\n",
       "      <td>...</td>\n",
       "      <td>0.927602</td>\n",
       "      <td>0.930995</td>\n",
       "      <td>0.932127</td>\n",
       "      <td>0.929186</td>\n",
       "      <td>0.002098</td>\n",
       "      <td>RF</td>\n",
       "      <td>4534</td>\n",
       "      <td>169297</td>\n",
       "      <td>29</td>\n",
       "      <td>0.016930</td>\n",
       "    </tr>\n",
       "    <tr>\n",
       "      <th>1</th>\n",
       "      <td>0.075350</td>\n",
       "      <td>0.001572</td>\n",
       "      <td>0.009733</td>\n",
       "      <td>0.000226</td>\n",
       "      <td>5.0</td>\n",
       "      <td>sqrt</td>\n",
       "      <td>100</td>\n",
       "      <td>{'max_depth': 5, 'max_features': 'sqrt', 'n_es...</td>\n",
       "      <td>0.923077</td>\n",
       "      <td>0.904977</td>\n",
       "      <td>...</td>\n",
       "      <td>0.930995</td>\n",
       "      <td>0.932127</td>\n",
       "      <td>0.927602</td>\n",
       "      <td>0.929864</td>\n",
       "      <td>0.001893</td>\n",
       "      <td>RF</td>\n",
       "      <td>4534</td>\n",
       "      <td>336488</td>\n",
       "      <td>29</td>\n",
       "      <td>0.033649</td>\n",
       "    </tr>\n",
       "    <tr>\n",
       "      <th>2</th>\n",
       "      <td>0.142905</td>\n",
       "      <td>0.005125</td>\n",
       "      <td>0.016847</td>\n",
       "      <td>0.000429</td>\n",
       "      <td>5.0</td>\n",
       "      <td>sqrt</td>\n",
       "      <td>200</td>\n",
       "      <td>{'max_depth': 5, 'max_features': 'sqrt', 'n_es...</td>\n",
       "      <td>0.923077</td>\n",
       "      <td>0.909502</td>\n",
       "      <td>...</td>\n",
       "      <td>0.930995</td>\n",
       "      <td>0.930995</td>\n",
       "      <td>0.929864</td>\n",
       "      <td>0.929638</td>\n",
       "      <td>0.001319</td>\n",
       "      <td>RF</td>\n",
       "      <td>4534</td>\n",
       "      <td>674317</td>\n",
       "      <td>29</td>\n",
       "      <td>0.067432</td>\n",
       "    </tr>\n",
       "    <tr>\n",
       "      <th>3</th>\n",
       "      <td>0.037803</td>\n",
       "      <td>0.000480</td>\n",
       "      <td>0.006431</td>\n",
       "      <td>0.000480</td>\n",
       "      <td>5.0</td>\n",
       "      <td>log2</td>\n",
       "      <td>50</td>\n",
       "      <td>{'max_depth': 5, 'max_features': 'log2', 'n_es...</td>\n",
       "      <td>0.904977</td>\n",
       "      <td>0.904977</td>\n",
       "      <td>...</td>\n",
       "      <td>0.932127</td>\n",
       "      <td>0.928733</td>\n",
       "      <td>0.928733</td>\n",
       "      <td>0.927602</td>\n",
       "      <td>0.003356</td>\n",
       "      <td>RF</td>\n",
       "      <td>4534</td>\n",
       "      <td>174913</td>\n",
       "      <td>28</td>\n",
       "      <td>0.017491</td>\n",
       "    </tr>\n",
       "    <tr>\n",
       "      <th>4</th>\n",
       "      <td>0.073612</td>\n",
       "      <td>0.004800</td>\n",
       "      <td>0.009698</td>\n",
       "      <td>0.000261</td>\n",
       "      <td>5.0</td>\n",
       "      <td>log2</td>\n",
       "      <td>100</td>\n",
       "      <td>{'max_depth': 5, 'max_features': 'log2', 'n_es...</td>\n",
       "      <td>0.909502</td>\n",
       "      <td>0.900452</td>\n",
       "      <td>...</td>\n",
       "      <td>0.936652</td>\n",
       "      <td>0.935520</td>\n",
       "      <td>0.927602</td>\n",
       "      <td>0.930769</td>\n",
       "      <td>0.004491</td>\n",
       "      <td>RF</td>\n",
       "      <td>4534</td>\n",
       "      <td>344408</td>\n",
       "      <td>31</td>\n",
       "      <td>0.034441</td>\n",
       "    </tr>\n",
       "  </tbody>\n",
       "</table>\n",
       "<p>5 rows × 28 columns</p>\n",
       "</div>"
      ],
      "text/plain": [
       "   mean_fit_time  std_fit_time  mean_score_time  std_score_time  max_depth  \\\n",
       "0       0.041044      0.001705         0.006777        0.000872        5.0   \n",
       "1       0.075350      0.001572         0.009733        0.000226        5.0   \n",
       "2       0.142905      0.005125         0.016847        0.000429        5.0   \n",
       "3       0.037803      0.000480         0.006431        0.000480        5.0   \n",
       "4       0.073612      0.004800         0.009698        0.000261        5.0   \n",
       "\n",
       "  max_features  n_estimators  \\\n",
       "0         sqrt            50   \n",
       "1         sqrt           100   \n",
       "2         sqrt           200   \n",
       "3         log2            50   \n",
       "4         log2           100   \n",
       "\n",
       "                                              params  split0_test_score  \\\n",
       "0  {'max_depth': 5, 'max_features': 'sqrt', 'n_es...           0.918552   \n",
       "1  {'max_depth': 5, 'max_features': 'sqrt', 'n_es...           0.923077   \n",
       "2  {'max_depth': 5, 'max_features': 'sqrt', 'n_es...           0.923077   \n",
       "3  {'max_depth': 5, 'max_features': 'log2', 'n_es...           0.904977   \n",
       "4  {'max_depth': 5, 'max_features': 'log2', 'n_es...           0.909502   \n",
       "\n",
       "   split1_test_score  ...  split2_train_score  split3_train_score  \\\n",
       "0           0.909502  ...            0.927602            0.930995   \n",
       "1           0.904977  ...            0.930995            0.932127   \n",
       "2           0.909502  ...            0.930995            0.930995   \n",
       "3           0.904977  ...            0.932127            0.928733   \n",
       "4           0.900452  ...            0.936652            0.935520   \n",
       "\n",
       "   split4_train_score  mean_train_score  std_train_score  clf  data_id  \\\n",
       "0            0.932127          0.929186         0.002098   RF     4534   \n",
       "1            0.927602          0.929864         0.001893   RF     4534   \n",
       "2            0.929864          0.929638         0.001319   RF     4534   \n",
       "3            0.928733          0.927602         0.003356   RF     4534   \n",
       "4            0.927602          0.930769         0.004491   RF     4534   \n",
       "\n",
       "   clf_size  max_leaves  clf_size_MB  \n",
       "0    169297          29     0.016930  \n",
       "1    336488          29     0.033649  \n",
       "2    674317          29     0.067432  \n",
       "3    174913          28     0.017491  \n",
       "4    344408          31     0.034441  \n",
       "\n",
       "[5 rows x 28 columns]"
      ]
     },
     "metadata": {},
     "output_type": "display_data"
    }
   ],
   "source": [
    "fname = '/Users/adam2392/Downloads/OFvsRF_grid_search_cv_results_openml-0.1x.csv'\n",
    "\n",
    "df = pd.read_csv(fname, index_col=0)\n",
    "\n",
    "display(df.head())"
   ]
  },
  {
   "cell_type": "code",
   "execution_count": 4,
   "id": "35ac7975-5da1-4cf1-8ef7-72bbe96b7073",
   "metadata": {},
   "outputs": [
    {
     "data": {
      "text/plain": [
       "array([4534, 1510, 1468])"
      ]
     },
     "execution_count": 4,
     "metadata": {},
     "output_type": "execute_result"
    }
   ],
   "source": [
    "df['data_id'].unique()"
   ]
  },
  {
   "cell_type": "code",
   "execution_count": 5,
   "id": "30e2f39a-7271-4d38-9fe3-b71a76b9dcea",
   "metadata": {},
   "outputs": [
    {
     "data": {
      "text/plain": [
       "<AxesSubplot:xlabel='clf', ylabel='mean_test_score'>"
      ]
     },
     "execution_count": 5,
     "metadata": {},
     "output_type": "execute_result"
    },
    {
     "data": {
      "image/png": "[encoded data removed]",
      "text/plain": [
       "<Figure size 432x288 with 1 Axes>"
      ]
     },
     "metadata": {
      "needs_background": "light"
     },
     "output_type": "display_data"
    },
    {
     "data": {
      "image/png": "[encoded data removed]",
      "text/plain": [
       "<Figure size 432x288 with 1 Axes>"
      ]
     },
     "metadata": {
      "needs_background": "light"
     },
     "output_type": "display_data"
    },
    {
     "data": {
      "image/png": "[encoded data removed]",
      "text/plain": [
       "<Figure size 432x288 with 1 Axes>"
      ]
     },
     "metadata": {
      "needs_background": "light"
     },
     "output_type": "display_data"
    }
   ],
   "source": [
    "data_df = df[df['data_id'] == 4534]\n",
    "sns.boxplot(x='clf', y='mean_test_score', data=data_df)\n",
    "\n",
    "plt.figure()\n",
    "data_df = df[df['data_id'] == 1510]\n",
    "sns.boxplot(x='clf', y='mean_test_score', data=data_df)\n",
    "\n",
    "plt.figure()\n",
    "data_df = df[df['data_id'] == 1468]\n",
    "sns.boxplot(x='clf', y='mean_test_score', data=data_df)"
   ]
  },
  {
   "cell_type": "code",
   "execution_count": 6,
   "id": "b55fcabe-cdda-4dec-a0c0-67d2e1c1eb75",
   "metadata": {},
   "outputs": [],
   "source": [
    "rf_df = df[df['clf']=='RF']\n",
    "of_df = df[df['clf']=='OF']"
   ]
  },
  {
   "cell_type": "code",
   "execution_count": 7,
   "id": "5fc9af45-9511-4ea0-aa23-799a26942ba8",
   "metadata": {},
   "outputs": [
    {
     "data": {
      "text/plain": [
       "<AxesSubplot:xlabel='mean_fit_time', ylabel='mean_test_score'>"
      ]
     },
     "execution_count": 7,
     "metadata": {},
     "output_type": "execute_result"
    },
    {
     "data": {
      "image/png": "[encoded data removed]",
      "text/plain": [
       "<Figure size 432x288 with 1 Axes>"
      ]
     },
     "metadata": {
      "needs_background": "light"
     },
     "output_type": "display_data"
    }
   ],
   "source": [
    "data_rf_df = rf_df[rf_df['data_id'] == 1510]\n",
    "data_of_df = of_df[of_df['data_id'] == 1510]\n",
    "\n",
    "sns.set_context(context='talk', font_scale=1.0)\n",
    "fig, ax = plt.subplots()\n",
    "sns.scatterplot(x='mean_fit_time', y='mean_test_score', label='rf', data=data_rf_df, ax=ax)\n",
    "\n",
    "# fig, ax = plt.subplots()\n",
    "sns.scatterplot(x='mean_fit_time', y='mean_test_score', color='red', label='of', data=data_of_df, ax=ax)"
   ]
  },
  {
   "cell_type": "code",
   "execution_count": 8,
   "id": "effaa8de-a365-45c1-b414-c709052f7e90",
   "metadata": {},
   "outputs": [
    {
     "data": {
      "text/plain": [
       "<AxesSubplot:xlabel='mean_score_time', ylabel='mean_test_score'>"
      ]
     },
     "execution_count": 8,
     "metadata": {},
     "output_type": "execute_result"
    },
    {
     "data": {
      "image/png": "[encoded data removed]",
      "text/plain": [
       "<Figure size 432x288 with 1 Axes>"
      ]
     },
     "metadata": {
      "needs_background": "light"
     },
     "output_type": "display_data"
    }
   ],
   "source": [
    "data_rf_df = rf_df[rf_df['data_id'] == 1510]\n",
    "data_of_df = of_df[of_df['data_id'] == 1510]\n",
    "\n",
    "sns.set_context(context='talk', font_scale=1.0)\n",
    "fig, ax = plt.subplots()\n",
    "sns.scatterplot(x='mean_score_time', y='mean_test_score', label='rf', data=data_rf_df, ax=ax)\n",
    "\n",
    "# fig, ax = plt.subplots()\n",
    "sns.scatterplot(x='mean_score_time', y='mean_test_score', color='red', label='of', data=data_of_df, ax=ax)"
   ]
  },
  {
   "cell_type": "code",
   "execution_count": 9,
   "id": "3b0c7027-b57c-4ca7-9486-90707f3d483c",
   "metadata": {},
   "outputs": [
    {
     "data": {
      "text/plain": [
       "<AxesSubplot:xlabel='clf_size_MB', ylabel='mean_test_score'>"
      ]
     },
     "execution_count": 9,
     "metadata": {},
     "output_type": "execute_result"
    },
    {
     "data": {
      "image/png": "[encoded data removed]",
      "text/plain": [
       "<Figure size 432x288 with 1 Axes>"
      ]
     },
     "metadata": {
      "needs_background": "light"
     },
     "output_type": "display_data"
    }
   ],
   "source": [
    "data_rf_df = rf_df[rf_df['data_id'] == 1510]\n",
    "data_of_df = of_df[of_df['data_id'] == 1510]\n",
    "\n",
    "fig, ax = plt.subplots()\n",
    "sns.scatterplot(x='clf_size_MB', y='mean_test_score', label='rf', data=data_rf_df, ax=ax)\n",
    "\n",
    "# fig, ax = plt.subplots()\n",
    "sns.scatterplot(x='clf_size_MB', y='mean_test_score', color='red', label='of', data=data_of_df, ax=ax)"
   ]
  },
  {
   "cell_type": "code",
   "execution_count": 10,
   "id": "be1e0d07-c7d1-4b8b-afbb-ee08de0e9bd5",
   "metadata": {},
   "outputs": [
    {
     "data": {
      "text/plain": [
       "<AxesSubplot:xlabel='max_leaves', ylabel='mean_test_score'>"
      ]
     },
     "execution_count": 10,
     "metadata": {},
     "output_type": "execute_result"
    },
    {
     "data": {
      "image/png": "[encoded data removed]",
      "text/plain": [
       "<Figure size 432x288 with 1 Axes>"
      ]
     },
     "metadata": {
      "needs_background": "light"
     },
     "output_type": "display_data"
    }
   ],
   "source": [
    "data_rf_df = rf_df[rf_df['data_id'] == 1510]\n",
    "data_of_df = of_df[of_df['data_id'] == 1510]\n",
    "\n",
    "fig, ax = plt.subplots()\n",
    "sns.scatterplot(x='max_leaves', y='mean_test_score', label='rf', data=data_rf_df, ax=ax)\n",
    "\n",
    "# fig, ax = plt.subplots()\n",
    "sns.scatterplot(x='max_leaves', y='mean_test_score', color='red', label='of', data=data_of_df, ax=ax)"
   ]
  },
  {
   "cell_type": "markdown",
   "id": "68119454-65a0-45c6-a557-fc07560f733b",
   "metadata": {},
   "source": [
    "# Dermatology"
   ]
  },
  {
   "cell_type": "code",
   "execution_count": 22,
   "id": "f5352148-6df1-439c-8ffb-0a5787b7baa8",
   "metadata": {},
   "outputs": [],
   "source": [
    "import numpy as np\n",
    "import pandas as pd\n",
    "from datetime import datetime\n",
    "import time\n",
    "from sklearn.ensemble import RandomForestClassifier, ObliqueRandomForestClassifier\n",
    "from sklearn.model_selection import GridSearchCV\n",
    "from sklearn.preprocessing import OneHotEncoder, OrdinalEncoder\n",
    "import _pickle as cPickle\n",
    "from scipy.io import arff"
   ]
  },
  {
   "cell_type": "code",
   "execution_count": 15,
   "id": "c3e1ae50-fb4c-4735-a629-d77494f5e6a9",
   "metadata": {},
   "outputs": [],
   "source": [
    "def get_forest_sizes(X, y, df, random_state):\n",
    "    N = df.shape[0]\n",
    "    tree_size = []\n",
    "    max_n_leaves = []\n",
    "\n",
    "    df.reset_index(drop=True, inplace=True)\n",
    "\n",
    "    t_i = time.time()\n",
    "\n",
    "    # for every parameter combination in GridSearch, refit the clf\n",
    "    # with the parameters and estimate the size of the forest.\n",
    "    for i in range(N):\n",
    "        row = df.iloc[i, :]\n",
    "\n",
    "        if row[\"clf\"] == \"RF\":\n",
    "            clf = RandomForestClassifier(random_state=random_state, **row[\"params\"])\n",
    "        elif row[\"clf\"] == \"OF\":\n",
    "            clf = ObliqueRandomForestClassifier(\n",
    "                random_state=random_state, **row[\"params\"]\n",
    "            )\n",
    "        else:\n",
    "            print(\"Cannot identify estimator\")\n",
    "\n",
    "        clf.fit(X, y)\n",
    "        tree_size.append(cPickle.dumps(clf).__sizeof__())\n",
    "\n",
    "        max_leaves = max([est.tree_.n_leaves for est in clf.estimators_])\n",
    "        max_n_leaves.append(max_leaves)\n",
    "\n",
    "    # create the new dataframe\n",
    "    new_df = pd.concat([df, pd.DataFrame(tree_size, columns=[\"clf_size\"])], axis=1)\n",
    "    new_df = pd.concat(\n",
    "        [new_df, pd.DataFrame(max_n_leaves, columns=[\"max_leaves\"])], axis=1\n",
    "    )\n",
    "    print(f\"Refitting trees took {int(time.time()-t_i)} seconds\")\n",
    "    return new_df\n",
    "\n",
    "\n",
    "#########################\n",
    "random_state = 123456\n",
    "t0 = datetime.now()\n",
    "params = {\n",
    "    \"max_features\": [\"sqrt\", \"log2\", None],\n",
    "    \"n_estimators\": [i for i in range(100, 300, 500)],\n",
    "    \"max_depth\": [5, 10, 15, 20, None],\n",
    "}\n",
    "\n",
    "df_cv = pd.DataFrame()\n",
    "clfs = {\n",
    "    \"RF\": RandomForestClassifier(random_state=random_state),\n",
    "    \"OF\": ObliqueRandomForestClassifier(random_state=random_state),\n",
    "}\n",
    "\n"
   ]
  },
  {
   "cell_type": "code",
   "execution_count": 24,
   "id": "637b66c4-ff2f-4990-958c-bdea53919c6e",
   "metadata": {},
   "outputs": [
    {
     "data": {
      "text/html": [
       "<div>\n",
       "<style scoped>\n",
       "    .dataframe tbody tr th:only-of-type {\n",
       "        vertical-align: middle;\n",
       "    }\n",
       "\n",
       "    .dataframe tbody tr th {\n",
       "        vertical-align: top;\n",
       "    }\n",
       "\n",
       "    .dataframe thead th {\n",
       "        text-align: right;\n",
       "    }\n",
       "</style>\n",
       "<table border=\"1\" class=\"dataframe\">\n",
       "  <thead>\n",
       "    <tr style=\"text-align: right;\">\n",
       "      <th></th>\n",
       "      <th>erythema</th>\n",
       "      <th>scaling</th>\n",
       "      <th>definite_borders</th>\n",
       "      <th>itching</th>\n",
       "      <th>koebner_phenomenon</th>\n",
       "      <th>polygonal_papules</th>\n",
       "      <th>follicular_papules</th>\n",
       "      <th>oral_mucosal_involvement</th>\n",
       "      <th>knee_and_elbow_involvement</th>\n",
       "      <th>scalp_involvement</th>\n",
       "      <th>...</th>\n",
       "      <th>disappearance_of_the_granular_layer</th>\n",
       "      <th>vacuolisation_and_damage_of_basal_layer</th>\n",
       "      <th>spongiosis</th>\n",
       "      <th>saw-tooth_appearance_of_retes</th>\n",
       "      <th>follicular_horn_plug</th>\n",
       "      <th>perifollicular_parakeratosis</th>\n",
       "      <th>inflammatory_monoluclear_inflitrate</th>\n",
       "      <th>band-like_infiltrate</th>\n",
       "      <th>Age</th>\n",
       "      <th>class</th>\n",
       "    </tr>\n",
       "  </thead>\n",
       "  <tbody>\n",
       "    <tr>\n",
       "      <th>0</th>\n",
       "      <td>b'2'</td>\n",
       "      <td>b'2'</td>\n",
       "      <td>b'0'</td>\n",
       "      <td>b'3'</td>\n",
       "      <td>b'0'</td>\n",
       "      <td>b'0'</td>\n",
       "      <td>b'0'</td>\n",
       "      <td>b'0'</td>\n",
       "      <td>b'1'</td>\n",
       "      <td>b'0'</td>\n",
       "      <td>...</td>\n",
       "      <td>b'0'</td>\n",
       "      <td>b'0'</td>\n",
       "      <td>b'3'</td>\n",
       "      <td>b'0'</td>\n",
       "      <td>b'0'</td>\n",
       "      <td>b'0'</td>\n",
       "      <td>b'1'</td>\n",
       "      <td>b'0'</td>\n",
       "      <td>55.0</td>\n",
       "      <td>b'2'</td>\n",
       "    </tr>\n",
       "    <tr>\n",
       "      <th>1</th>\n",
       "      <td>b'3'</td>\n",
       "      <td>b'3'</td>\n",
       "      <td>b'3'</td>\n",
       "      <td>b'2'</td>\n",
       "      <td>b'1'</td>\n",
       "      <td>b'0'</td>\n",
       "      <td>b'0'</td>\n",
       "      <td>b'0'</td>\n",
       "      <td>b'1'</td>\n",
       "      <td>b'1'</td>\n",
       "      <td>...</td>\n",
       "      <td>b'0'</td>\n",
       "      <td>b'0'</td>\n",
       "      <td>b'0'</td>\n",
       "      <td>b'0'</td>\n",
       "      <td>b'0'</td>\n",
       "      <td>b'0'</td>\n",
       "      <td>b'1'</td>\n",
       "      <td>b'0'</td>\n",
       "      <td>8.0</td>\n",
       "      <td>b'1'</td>\n",
       "    </tr>\n",
       "    <tr>\n",
       "      <th>2</th>\n",
       "      <td>b'2'</td>\n",
       "      <td>b'1'</td>\n",
       "      <td>b'2'</td>\n",
       "      <td>b'3'</td>\n",
       "      <td>b'1'</td>\n",
       "      <td>b'3'</td>\n",
       "      <td>b'0'</td>\n",
       "      <td>b'3'</td>\n",
       "      <td>b'0'</td>\n",
       "      <td>b'0'</td>\n",
       "      <td>...</td>\n",
       "      <td>b'0'</td>\n",
       "      <td>b'2'</td>\n",
       "      <td>b'3'</td>\n",
       "      <td>b'2'</td>\n",
       "      <td>b'0'</td>\n",
       "      <td>b'0'</td>\n",
       "      <td>b'2'</td>\n",
       "      <td>b'3'</td>\n",
       "      <td>26.0</td>\n",
       "      <td>b'3'</td>\n",
       "    </tr>\n",
       "    <tr>\n",
       "      <th>3</th>\n",
       "      <td>b'2'</td>\n",
       "      <td>b'2'</td>\n",
       "      <td>b'2'</td>\n",
       "      <td>b'0'</td>\n",
       "      <td>b'0'</td>\n",
       "      <td>b'0'</td>\n",
       "      <td>b'0'</td>\n",
       "      <td>b'0'</td>\n",
       "      <td>b'3'</td>\n",
       "      <td>b'2'</td>\n",
       "      <td>...</td>\n",
       "      <td>b'3'</td>\n",
       "      <td>b'0'</td>\n",
       "      <td>b'0'</td>\n",
       "      <td>b'0'</td>\n",
       "      <td>b'0'</td>\n",
       "      <td>b'0'</td>\n",
       "      <td>b'3'</td>\n",
       "      <td>b'0'</td>\n",
       "      <td>40.0</td>\n",
       "      <td>b'1'</td>\n",
       "    </tr>\n",
       "    <tr>\n",
       "      <th>4</th>\n",
       "      <td>b'2'</td>\n",
       "      <td>b'3'</td>\n",
       "      <td>b'2'</td>\n",
       "      <td>b'2'</td>\n",
       "      <td>b'2'</td>\n",
       "      <td>b'2'</td>\n",
       "      <td>b'0'</td>\n",
       "      <td>b'2'</td>\n",
       "      <td>b'0'</td>\n",
       "      <td>b'0'</td>\n",
       "      <td>...</td>\n",
       "      <td>b'2'</td>\n",
       "      <td>b'3'</td>\n",
       "      <td>b'2'</td>\n",
       "      <td>b'3'</td>\n",
       "      <td>b'0'</td>\n",
       "      <td>b'0'</td>\n",
       "      <td>b'2'</td>\n",
       "      <td>b'3'</td>\n",
       "      <td>45.0</td>\n",
       "      <td>b'3'</td>\n",
       "    </tr>\n",
       "  </tbody>\n",
       "</table>\n",
       "<p>5 rows × 35 columns</p>\n",
       "</div>"
      ],
      "text/plain": [
       "  erythema scaling definite_borders itching koebner_phenomenon  \\\n",
       "0     b'2'    b'2'             b'0'    b'3'               b'0'   \n",
       "1     b'3'    b'3'             b'3'    b'2'               b'1'   \n",
       "2     b'2'    b'1'             b'2'    b'3'               b'1'   \n",
       "3     b'2'    b'2'             b'2'    b'0'               b'0'   \n",
       "4     b'2'    b'3'             b'2'    b'2'               b'2'   \n",
       "\n",
       "  polygonal_papules follicular_papules oral_mucosal_involvement  \\\n",
       "0              b'0'               b'0'                     b'0'   \n",
       "1              b'0'               b'0'                     b'0'   \n",
       "2              b'3'               b'0'                     b'3'   \n",
       "3              b'0'               b'0'                     b'0'   \n",
       "4              b'2'               b'0'                     b'2'   \n",
       "\n",
       "  knee_and_elbow_involvement scalp_involvement  ...  \\\n",
       "0                       b'1'              b'0'  ...   \n",
       "1                       b'1'              b'1'  ...   \n",
       "2                       b'0'              b'0'  ...   \n",
       "3                       b'3'              b'2'  ...   \n",
       "4                       b'0'              b'0'  ...   \n",
       "\n",
       "  disappearance_of_the_granular_layer vacuolisation_and_damage_of_basal_layer  \\\n",
       "0                                b'0'                                    b'0'   \n",
       "1                                b'0'                                    b'0'   \n",
       "2                                b'0'                                    b'2'   \n",
       "3                                b'3'                                    b'0'   \n",
       "4                                b'2'                                    b'3'   \n",
       "\n",
       "  spongiosis saw-tooth_appearance_of_retes follicular_horn_plug  \\\n",
       "0       b'3'                          b'0'                 b'0'   \n",
       "1       b'0'                          b'0'                 b'0'   \n",
       "2       b'3'                          b'2'                 b'0'   \n",
       "3       b'0'                          b'0'                 b'0'   \n",
       "4       b'2'                          b'3'                 b'0'   \n",
       "\n",
       "  perifollicular_parakeratosis inflammatory_monoluclear_inflitrate  \\\n",
       "0                         b'0'                                b'1'   \n",
       "1                         b'0'                                b'1'   \n",
       "2                         b'0'                                b'2'   \n",
       "3                         b'0'                                b'3'   \n",
       "4                         b'0'                                b'2'   \n",
       "\n",
       "  band-like_infiltrate   Age class  \n",
       "0                 b'0'  55.0  b'2'  \n",
       "1                 b'0'   8.0  b'1'  \n",
       "2                 b'3'  26.0  b'3'  \n",
       "3                 b'0'  40.0  b'1'  \n",
       "4                 b'3'  45.0  b'3'  \n",
       "\n",
       "[5 rows x 35 columns]"
      ]
     },
     "metadata": {},
     "output_type": "display_data"
    },
    {
     "name": "stdout",
     "output_type": "stream",
     "text": [
      "(366, 34)\n",
      "(366, 1)\n",
      "(366, 35)\n"
     ]
    },
    {
     "name": "stderr",
     "output_type": "stream",
     "text": [
      "/var/folders/6_/sl83qtkd68x3_mvfys07_6qm0000gn/T/ipykernel_7475/3037124352.py:5: FutureWarning: Support for multi-dimensional indexing (e.g. `obj[:, None]`) is deprecated and will be removed in a future version.  Convert to a numpy array before indexing instead.\n",
      "  y = df['class'][:, np.newaxis]\n"
     ]
    }
   ],
   "source": [
    "\n",
    "data = arff.loadarff('/Users/adam2392/Downloads/dataset_35_dermatology.arff')\n",
    "df = pd.DataFrame(data[0])\n",
    "display(df.head())\n",
    "X = df[df.columns[~df.columns.isin(['class'])]]\n",
    "y_text = df['class'][:, np.newaxis]\n",
    "print(X.shape)\n",
    "print(y_text.shape)\n",
    "print(df.shape)\n",
    "# X, y, d_name = load_cc18(data_id=data_id, random_state=random_state)"
   ]
  },
  {
   "cell_type": "code",
   "execution_count": 26,
   "id": "802c2feb-1106-42ae-8004-14b6d2563bed",
   "metadata": {},
   "outputs": [
    {
     "name": "stdout",
     "output_type": "stream",
     "text": [
      "[array([b'1', b'2', b'3', b'4', b'5', b'6'], dtype=object)]\n"
     ]
    }
   ],
   "source": [
    "enc = OrdinalEncoder()\n",
    "y = enc.fit_transform(y_text)\n",
    "print(enc.)"
   ]
  },
  {
   "cell_type": "code",
   "execution_count": null,
   "id": "910da24a-5e9d-4cc1-8be1-3ff991bd1e4f",
   "metadata": {},
   "outputs": [],
   "source": [
    "for clf_lab, clf in clfs.items():\n",
    "    t_i = time.time()\n",
    "\n",
    "    if clf_lab == \"OF\":\n",
    "        of_params = params.copy()\n",
    "        of_params[\"max_features\"] = [\"sqrt\", \"log2\", None, 2 * X.shape[1]]\n",
    "        param_grid = of_params\n",
    "    else:\n",
    "        param_grid = params.copy()\n",
    "\n",
    "    search = GridSearchCV(\n",
    "        estimator=clf,\n",
    "        param_grid=param_grid,\n",
    "        return_train_score=True,\n",
    "        random_state=random_state,\n",
    "        cv=None,  # default 5-fold\n",
    "        n_jobs=1,\n",
    "    )\n",
    "    search.fit(X, y)\n",
    "    print(\n",
    "        f\"Grid Searching took {int(time.time()-t_i)} seconds for\"\n",
    "        f\" {clf_lab} algorithm\"\n",
    "    )\n",
    "\n",
    "    df_tmp = pd.DataFrame(search.cv_results_)\n",
    "    df_tmp.columns = [i.replace(\"param_\", \"\") for i in df_tmp.columns]\n",
    "    df_tmp[\"clf\"] = clf_lab\n",
    "    # df_tmp.fillna('None', inplace=True)\n",
    "    df_tmp[\"mean_test_score\"] = df_tmp.apply(\n",
    "        lambda x: round(x[\"mean_test_score\"], 3), axis=1\n",
    "    )\n",
    "\n",
    "    # refit trees to get the forest sizes\n",
    "    df_tmp = get_forest_sizes(X, y, df_tmp, random_state)\n",
    "    df_cv = pd.concat([df_cv, df_tmp])\n",
    "df_cv[\"clf_size_MB\"] = df_cv.apply(lambda x: x[\"clf_size\"] / 10e6, axis=1)\n",
    "df_cv.to_csv(\"OFvsRF_grid_search_cv_results_openml.csv\")\n",
    "\n"
   ]
  }
 ],
 "metadata": {
  "kernelspec": {
   "display_name": "Python 3.9.13",
   "language": "python",
   "name": "python3"
  },
  "language_info": {
   "codemirror_mode": {
    "name": "ipython",
    "version": 3
   },
   "file_extension": ".py",
   "mimetype": "text/x-python",
   "name": "python",
   "nbconvert_exporter": "python",
   "pygments_lexer": "ipython3",
   "version": "3.9.13"
  },
  "vscode": {
   "interpreter": {
    "hash": "b384395f67996c65fdba24ab6cb1b075b2d683d80ba2ee88c5097dabb2ca8919"
   }
  }
 },
 "nbformat": 4,
 "nbformat_minor": 5
}
